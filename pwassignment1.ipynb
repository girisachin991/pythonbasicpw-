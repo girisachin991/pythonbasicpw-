{
 "cells": [
  {
   "cell_type": "code",
   "execution_count": 1,
   "id": "4f692056-6c44-4aa5-a2f9-5b4afafaea5b",
   "metadata": {},
   "outputs": [
    {
     "data": {
      "text/plain": [
       "\"(i) Easy to learn\\nPython is easier to learn than other programming languages like C, C++, and Java.\\n  (ii) Open-source and free\\nPython is free to use, download, and modify because it's developed under an OSI-approved open source license.\\n  (iii) Dynamically typed\\nPython determines the data type of a variable at runtime, so you don't need to define the type of a variable.\\n  (iv) Portable\\nPython code can be used on different machines without any changes.\\n  (v) Large standard library\\nPython has a large standard library with libraries for image manipulation, databases, unit-testing, and more. \""
      ]
     },
     "execution_count": 1,
     "metadata": {},
     "output_type": "execute_result"
    }
   ],
   "source": [
    "#1. Explain the key features of Python that make it a popular choice for programming\n",
    "'''(i) Easy to learn\n",
    "Python is easier to learn than other programming languages like C, C++, and Java.\n",
    "  (ii) Open-source and free\n",
    "Python is free to use, download, and modify because it's developed under an OSI-approved open source license.\n",
    "  (iii) Dynamically typed\n",
    "Python determines the data type of a variable at runtime, so you don't need to define the type of a variable.\n",
    "  (iv) Portable\n",
    "Python code can be used on different machines without any changes.\n",
    "  (v) Large standard library\n",
    "Python has a large standard library with libraries for image manipulation, databases, unit-testing, and more. '''"
   ]
  },
  {
   "cell_type": "code",
   "execution_count": 9,
   "id": "094ca937-813b-4d45-9a65-0b3b6f1bc8c3",
   "metadata": {},
   "outputs": [
    {
     "ename": "IndentationError",
     "evalue": "unexpected indent (1041653052.py, line 2)",
     "output_type": "error",
     "traceback": [
      "\u001b[1;36m  Cell \u001b[1;32mIn[9], line 2\u001b[1;36m\u001b[0m\n\u001b[1;33m    ''' Python Keywords are some predefined and reserved words in Python that have special meanings.\u001b[0m\n\u001b[1;37m    ^\u001b[0m\n\u001b[1;31mIndentationError\u001b[0m\u001b[1;31m:\u001b[0m unexpected indent\n"
     ]
    }
   ],
   "source": [
    "#2. Describe the role of predefined keywords in Python and provide examples of how they are used in a program.\n",
    "    ''' Python Keywords are some predefined and reserved words in Python that have special meanings.\n",
    "        Keywords are used to define the syntax of the coding. \n",
    "        The keyword cannot be used as an identifier, function, or variable name.\n",
    "        All the keywords in Python are written in lowercase except True and False.'''\n",
    "# Examples \n",
    "number = input(int(\"Enter a number\")\n",
    "if number%2==0:\n",
    "    print(\"Number is even\")\n",
    "else:\n",
    "    print(\"number is odd\")\n",
    "\n"
   ]
  },
  {
   "cell_type": "code",
   "execution_count": 19,
   "id": "548ebaa6-049b-4660-ae6c-97b46f4023a1",
   "metadata": {},
   "outputs": [
    {
     "name": "stdin",
     "output_type": "stream",
     "text": [
      " 5\n"
     ]
    },
    {
     "name": "stdout",
     "output_type": "stream",
     "text": [
      "positive number\n"
     ]
    }
   ],
   "source": [
    "# to find whether a number is positive or negative.(Example of predefined keywords)\n",
    "num=float(input())\n",
    "if num >0:\n",
    "    print(\"positive number\")\n",
    "elif num == 0:\n",
    "    print(\"zero\")\n",
    "else:\n",
    "    print (\"Negative number\")"
   ]
  },
  {
   "cell_type": "code",
   "execution_count": null,
   "id": "94533189-04ca-4422-a73d-45acb1ef6be3",
   "metadata": {},
   "outputs": [],
   "source": [
    "#3. Compare and contrast mutable and immutable objects in Python with examples\n",
    "''' Mutable - simply it's means change \n",
    "            Objects whose state or value can be changed after they are created are called mutable object.\n",
    "        examples: list,string in python \n",
    "    Immutable - simply means no change \n",
    "             objects whose state or value can not be changed after they are created are called immutable object.\n",
    "        Examples: Tuples, dictionary'''\n"
   ]
  },
  {
   "cell_type": "code",
   "execution_count": 29,
   "id": "e9ceb0ae-86c5-444a-86a0-6b21f920617c",
   "metadata": {},
   "outputs": [
    {
     "name": "stdout",
     "output_type": "stream",
     "text": [
      "['Bengaluru', 'New York', 1971, 1682, (1, 2, 3, 4, 5, 'Is this tuple?'), \"'Hello,welcome to Python Programming'\"]\n"
     ]
    }
   ],
   "source": [
    "#examples \n",
    "Elements=['Bengaluru','New York', 1971, 1682, (1,2,3,4,5,'Is this tuple?'),\"'Hello,welcome to Python Programming'\"]\n",
    "print(Elements)"
   ]
  },
  {
   "cell_type": "code",
   "execution_count": 32,
   "id": "ba84aa75-bd6e-4b28-a521-d6ac96b39ff9",
   "metadata": {},
   "outputs": [
    {
     "name": "stdout",
     "output_type": "stream",
     "text": [
      "['Bengaluru', 'New York', 1971, 1682, (1, 2, 3, 4, 5, 'Is this tuple?'), 'Hello,welcome to python programming', 'Mumbai']\n"
     ]
    }
   ],
   "source": [
    "elements = ['Bengaluru','New York',1971,1682,(1,2,3,4,5,'Is this tuple?'),'Hello,welcome to python programming'] \n",
    "elements.append('Mumbai')         # Add 'Mumbai' into the list\n",
    "print(elements)"
   ]
  },
  {
   "cell_type": "code",
   "execution_count": null,
   "id": "b0c9a006-65fa-4495-87c1-8e29b6aaa265",
   "metadata": {},
   "outputs": [],
   "source": [
    "# 4. Discuss the different types of operators in Python and provide examples of how they are used.\n",
    "  '''Operators are the special keywords or symbols that are used to perform operations on values or variables \n",
    "Different types of operators are\n",
    "Arithmatic operator(+,-,*,%,/)\n",
    "comparison operator (<,>,!=,==)\n",
    "logical operator( and,or)\n",
    "bitwise operator(&,~)\n",
    "assignement operator(=, += etc)\n",
    "membership operator(in, not in)\n",
    "identity operator(is, is not etc)'''"
   ]
  },
  {
   "cell_type": "code",
   "execution_count": 34,
   "id": "808778ac-e496-44a7-bf32-c098c5ea8c35",
   "metadata": {},
   "outputs": [
    {
     "name": "stdout",
     "output_type": "stream",
     "text": [
      "6\n"
     ]
    }
   ],
   "source": [
    "# Examples \n",
    "a=2\n",
    "b=3\n",
    "c=2*3\n",
    "print(c)"
   ]
  },
  {
   "cell_type": "code",
   "execution_count": 37,
   "id": "148635f7-9c88-495d-9f18-05206a522db8",
   "metadata": {},
   "outputs": [
    {
     "data": {
      "text/plain": [
       "False"
      ]
     },
     "execution_count": 37,
     "metadata": {},
     "output_type": "execute_result"
    }
   ],
   "source": [
    "a=11\n",
    "b=12\n",
    "a>b"
   ]
  },
  {
   "cell_type": "code",
   "execution_count": 42,
   "id": "85346b31-ec42-4d0f-a05b-2dd9c3f3d5ca",
   "metadata": {},
   "outputs": [
    {
     "data": {
      "text/plain": [
       "False"
      ]
     },
     "execution_count": 42,
     "metadata": {},
     "output_type": "execute_result"
    }
   ],
   "source": [
    "a='Sachin'\n",
    "b='Rohit'\n",
    "a is b"
   ]
  },
  {
   "cell_type": "code",
   "execution_count": 1,
   "id": "fe3c6b0f-b373-45ca-8d63-1529481accf4",
   "metadata": {},
   "outputs": [
    {
     "data": {
      "text/plain": [
       "str"
      ]
     },
     "execution_count": 1,
     "metadata": {},
     "output_type": "execute_result"
    }
   ],
   "source": [
    "# 5. Explain the concept of type casting in Python with examples.\n",
    "''' Type casting - it means the change of data type \n",
    "   Change of data type is required to calculate some information'''\n",
    "a='2'\n",
    "type(a)"
   ]
  },
  {
   "cell_type": "code",
   "execution_count": 8,
   "id": "bc632f06-6bc4-41ee-8245-666eaf732dfc",
   "metadata": {},
   "outputs": [
    {
     "data": {
      "text/plain": [
       "int"
      ]
     },
     "execution_count": 8,
     "metadata": {},
     "output_type": "execute_result"
    }
   ],
   "source": [
    "a=int(a)\n",
    "a\n",
    "type(a)"
   ]
  },
  {
   "cell_type": "code",
   "execution_count": 12,
   "id": "5d84830c-3f74-4055-b2e4-0f07547e4a2a",
   "metadata": {},
   "outputs": [
    {
     "data": {
      "text/plain": [
       "float"
      ]
     },
     "execution_count": 12,
     "metadata": {},
     "output_type": "execute_result"
    }
   ],
   "source": [
    "b=5.7\n",
    "type(b)"
   ]
  },
  {
   "cell_type": "code",
   "execution_count": 14,
   "id": "22e76ad2-42ca-47ed-ad72-284b1073bf25",
   "metadata": {},
   "outputs": [
    {
     "data": {
      "text/plain": [
       "5"
      ]
     },
     "execution_count": 14,
     "metadata": {},
     "output_type": "execute_result"
    }
   ],
   "source": [
    "b=int(b)\n",
    "b"
   ]
  },
  {
   "cell_type": "code",
   "execution_count": 16,
   "id": "cbd62873-bd3e-4743-bb52-8af9cb55f811",
   "metadata": {},
   "outputs": [
    {
     "data": {
      "text/plain": [
       "str"
      ]
     },
     "execution_count": 16,
     "metadata": {},
     "output_type": "execute_result"
    }
   ],
   "source": [
    "a='Sachin'\n",
    "type(a)"
   ]
  },
  {
   "cell_type": "code",
   "execution_count": 18,
   "id": "bc334237-4b1a-4edf-b8a7-4b1d4d2c6e04",
   "metadata": {},
   "outputs": [
    {
     "ename": "ValueError",
     "evalue": "invalid literal for int() with base 10: 'Sachin'",
     "output_type": "error",
     "traceback": [
      "\u001b[1;31m---------------------------------------------------------------------------\u001b[0m",
      "\u001b[1;31mValueError\u001b[0m                                Traceback (most recent call last)",
      "Cell \u001b[1;32mIn[18], line 1\u001b[0m\n\u001b[1;32m----> 1\u001b[0m a\u001b[38;5;241m=\u001b[39m\u001b[38;5;28mint\u001b[39m(a)\n",
      "\u001b[1;31mValueError\u001b[0m: invalid literal for int() with base 10: 'Sachin'"
     ]
    }
   ],
   "source": [
    "a=int(a)   # String to integer conversion is not possible"
   ]
  },
  {
   "cell_type": "code",
   "execution_count": null,
   "id": "2f8d2984-74b4-400f-b3ec-56d894d5e01e",
   "metadata": {},
   "outputs": [],
   "source": [
    "# 6. How do conditional statements work in Python? Illustrate with examples.\n",
    "''' Python supports logical conditions from mathematics\n",
    "\n",
    "Equals: a == b\n",
    "Not Equals: a != b\n",
    "Less than: a < b\n",
    "Less than or equal to: a <= b\n",
    "Greater than: a > b\n",
    "Greater than or equal to: a >= b\n",
    "These conditions can be used in several ways, most commonly in \"if statements\" and loops.'''"
   ]
  },
  {
   "cell_type": "code",
   "execution_count": 3,
   "id": "51dcaf38-c637-4fc2-9ec2-22d15f3a8666",
   "metadata": {},
   "outputs": [
    {
     "name": "stdin",
     "output_type": "stream",
     "text": [
      " 89\n"
     ]
    },
    {
     "name": "stdout",
     "output_type": "stream",
     "text": [
      "it's an odd number\n"
     ]
    }
   ],
   "source": [
    "# Use of if conditional statement to find whether a number is even or odd \n",
    "num=int(input())\n",
    "if num%2==0:\n",
    "    print(\"it's an even number\")\n",
    "else:\n",
    "    print(\"it's an odd number\")\n",
    "    "
   ]
  },
  {
   "cell_type": "code",
   "execution_count": null,
   "id": "312d799d-1813-4e5e-8594-e06e4b8b4ec8",
   "metadata": {},
   "outputs": [],
   "source": [
    "#7. Describe the different types of loops in Python and their use cases with examples.\n",
    "''' There are two loops statement \n",
    "     1. For - It's iterate over a sequence of elements\n",
    "     2.While - Repeatedly execute a certain code until a condition is met'''\n"
   ]
  },
  {
   "cell_type": "code",
   "execution_count": 5,
   "id": "b7199869-742e-4269-b946-c41719022b7e",
   "metadata": {},
   "outputs": [
    {
     "name": "stdout",
     "output_type": "stream",
     "text": [
      "1\n",
      "2\n",
      "3\n",
      "4\n",
      "5\n",
      "6\n",
      "7\n",
      "8\n",
      "9\n",
      " Number is no longer less than 10\n"
     ]
    }
   ],
   "source": [
    "# Example of while loop, print the number till number is less than 10\n",
    "n=10\n",
    "i=1\n",
    "while i<10:\n",
    "    print(i)\n",
    "    i=i+1\n",
    "else:\n",
    "    print(\" Number is no longer less than 10\")\n"
   ]
  },
  {
   "cell_type": "code",
   "execution_count": 7,
   "id": "ad4c65dd-d8ba-4e55-a5cd-ff085f385cc0",
   "metadata": {},
   "outputs": [
    {
     "name": "stdout",
     "output_type": "stream",
     "text": [
      "0\n",
      "2\n",
      "4\n",
      "6\n",
      "8\n",
      "10\n",
      "12\n",
      "14\n",
      "16\n",
      "18\n",
      "20\n",
      "22\n",
      "24\n",
      "26\n",
      "28\n",
      "30\n",
      "32\n",
      "34\n",
      "36\n",
      "38\n",
      "40\n",
      "42\n",
      "44\n",
      "46\n",
      "48\n",
      "50\n",
      "52\n",
      "54\n",
      "56\n",
      "58\n",
      "60\n",
      "62\n",
      "64\n",
      "66\n",
      "68\n",
      "70\n",
      "72\n",
      "74\n",
      "76\n",
      "78\n",
      "80\n",
      "82\n",
      "84\n",
      "86\n",
      "88\n",
      "90\n",
      "92\n",
      "94\n",
      "96\n",
      "98\n"
     ]
    }
   ],
   "source": [
    "# Example of for loop, Print whether a number is even or odd in a range \n",
    "for i in range (0,100,2):\n",
    "    if i%2==0:\n",
    "        print(i)\n",
    "    else:\n",
    "        print(\"\")"
   ]
  },
  {
   "cell_type": "code",
   "execution_count": null,
   "id": "309257d7-8029-4cbf-9c3b-6803114e7b8f",
   "metadata": {},
   "outputs": [],
   "source": []
  }
 ],
 "metadata": {
  "kernelspec": {
   "display_name": "Python 3 (ipykernel)",
   "language": "python",
   "name": "python3"
  },
  "language_info": {
   "codemirror_mode": {
    "name": "ipython",
    "version": 3
   },
   "file_extension": ".py",
   "mimetype": "text/x-python",
   "name": "python",
   "nbconvert_exporter": "python",
   "pygments_lexer": "ipython3",
   "version": "3.12.4"
  }
 },
 "nbformat": 4,
 "nbformat_minor": 5
}
